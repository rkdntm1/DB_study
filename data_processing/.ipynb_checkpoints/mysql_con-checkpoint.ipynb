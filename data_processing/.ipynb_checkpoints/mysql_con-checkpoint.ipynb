{
 "cells": [
  {
   "cell_type": "code",
   "execution_count": 2,
   "metadata": {},
   "outputs": [
    {
     "data": {
      "text/plain": [
       "'0.10.1'"
      ]
     },
     "execution_count": 2,
     "metadata": {},
     "output_type": "execute_result"
    }
   ],
   "source": [
    "import pymysql as mysql\n",
    "\n",
    "mysql.__version__"
   ]
  },
  {
   "cell_type": "markdown",
   "metadata": {},
   "source": [
    "## 127.0.0.1 => locahost (내 pc ) "
   ]
  },
  {
   "cell_type": "code",
   "execution_count": 21,
   "metadata": {},
   "outputs": [],
   "source": [
    "conn = mysql.connect(host='127.0.0.1',\n",
    "                             user='root',\n",
    "                             password='kita',\n",
    "                             db='kita1',\n",
    "                             charset='utf8',\n",
    "                             cursorclass=mysql.cursors.DictCursor)"
   ]
  },
  {
   "cell_type": "code",
   "execution_count": 23,
   "metadata": {},
   "outputs": [
    {
     "name": "stdout",
     "output_type": "stream",
     "text": [
      "{'id': 1, 'name': 'a1', 'age': 10}\n",
      "{'id': 2, 'name': 'a2', 'age': 20}\n"
     ]
    }
   ],
   "source": [
    "with conn.cursor() as cursor: # cursor 데이터가 어느 위치로 움직일 수 있는지 표현\n",
    "    sql=\"select id, name, age from sungjuck\"\n",
    "    cursor.execute(sql)\n",
    "    #result=cursor.fetchall() #fetchall() - 전체 \n",
    "    result=cursor.fetchmany(2) # fetchmany(n) - n개 만큼 출력\n",
    "    for row in result:\n",
    "        print(row)"
   ]
  },
  {
   "cell_type": "code",
   "execution_count": 24,
   "metadata": {},
   "outputs": [
    {
     "name": "stdout",
     "output_type": "stream",
     "text": [
      "{'id': 1, 'name': 'a1', 'age': 10}\n"
     ]
    }
   ],
   "source": [
    "with conn.cursor() as cursor: # cursor 데이터가 어느 위치로 움직일 수 있는지 표현\n",
    "    sql=\"select id, name, age from sungjuck\"\n",
    "    cursor.execute(sql)\n",
    "    #result=cursor.fetchall()\n",
    "    result=cursor.fetchone() # fetchone -한개만 출력\n",
    "    print(result)"
   ]
  },
  {
   "cell_type": "code",
   "execution_count": 34,
   "metadata": {},
   "outputs": [
    {
     "ename": "Error",
     "evalue": "Already closed",
     "output_type": "error",
     "traceback": [
      "\u001b[1;31m---------------------------------------------------------------------------\u001b[0m",
      "\u001b[1;31mError\u001b[0m                                     Traceback (most recent call last)",
      "\u001b[1;32m<ipython-input-34-8dd0cd799055>\u001b[0m in \u001b[0;36m<module>\u001b[1;34m\u001b[0m\n\u001b[1;32m----> 1\u001b[1;33m \u001b[0mconn\u001b[0m\u001b[1;33m.\u001b[0m\u001b[0mclose\u001b[0m\u001b[1;33m(\u001b[0m\u001b[1;33m)\u001b[0m\u001b[1;33m\u001b[0m\u001b[1;33m\u001b[0m\u001b[0m\n\u001b[0m",
      "\u001b[1;32mC:\\Anaconda3\\lib\\site-packages\\pymysql\\connections.py\u001b[0m in \u001b[0;36mclose\u001b[1;34m(self)\u001b[0m\n\u001b[0;32m    354\u001b[0m         \"\"\"\n\u001b[0;32m    355\u001b[0m         \u001b[1;32mif\u001b[0m \u001b[0mself\u001b[0m\u001b[1;33m.\u001b[0m\u001b[0m_closed\u001b[0m\u001b[1;33m:\u001b[0m\u001b[1;33m\u001b[0m\u001b[1;33m\u001b[0m\u001b[0m\n\u001b[1;32m--> 356\u001b[1;33m             \u001b[1;32mraise\u001b[0m \u001b[0merr\u001b[0m\u001b[1;33m.\u001b[0m\u001b[0mError\u001b[0m\u001b[1;33m(\u001b[0m\u001b[1;34m\"Already closed\"\u001b[0m\u001b[1;33m)\u001b[0m\u001b[1;33m\u001b[0m\u001b[1;33m\u001b[0m\u001b[0m\n\u001b[0m\u001b[0;32m    357\u001b[0m         \u001b[0mself\u001b[0m\u001b[1;33m.\u001b[0m\u001b[0m_closed\u001b[0m \u001b[1;33m=\u001b[0m \u001b[1;32mTrue\u001b[0m\u001b[1;33m\u001b[0m\u001b[1;33m\u001b[0m\u001b[0m\n\u001b[0;32m    358\u001b[0m         \u001b[1;32mif\u001b[0m \u001b[0mself\u001b[0m\u001b[1;33m.\u001b[0m\u001b[0m_sock\u001b[0m \u001b[1;32mis\u001b[0m \u001b[1;32mNone\u001b[0m\u001b[1;33m:\u001b[0m\u001b[1;33m\u001b[0m\u001b[1;33m\u001b[0m\u001b[0m\n",
      "\u001b[1;31mError\u001b[0m: Already closed"
     ]
    }
   ],
   "source": [
    "conn.close()"
   ]
  },
  {
   "cell_type": "markdown",
   "metadata": {},
   "source": [
    "## employees first_name, last_name 출력"
   ]
  },
  {
   "cell_type": "code",
   "execution_count": 40,
   "metadata": {},
   "outputs": [],
   "source": [
    "conn = mysql.connect(host='127.0.0.1',\n",
    "                             user='root',\n",
    "                             password='kita',\n",
    "                             db='employees',\n",
    "                             charset='utf8',\n",
    "                             cursorclass=mysql.cursors.DictCursor)"
   ]
  },
  {
   "cell_type": "code",
   "execution_count": 45,
   "metadata": {},
   "outputs": [
    {
     "name": "stdout",
     "output_type": "stream",
     "text": [
      "{'first_name': 'Parto', 'last_name': 'Speek'}\n"
     ]
    }
   ],
   "source": [
    "with conn.cursor() as cursor:\n",
    "    sql = \"select first_name, last_name from employees \"\n",
    "    sql+=\" where first_name =%s and last_name =%s \" #%s로 외부에서 값을 받음\n",
    "    sql+=\" limit 0,10\"\n",
    "    cursor.execute(sql,('Parto','Speek'))\n",
    "    result = cursor.fetchone()\n",
    "    print(result)"
   ]
  },
  {
   "cell_type": "code",
   "execution_count": 49,
   "metadata": {},
   "outputs": [
    {
     "name": "stdout",
     "output_type": "stream",
     "text": [
      "{'first_name': 'Bezalel', 'last_name': 'Simmel'}\n",
      "{'first_name': 'Parto', 'last_name': 'Bamford'}\n",
      "{'first_name': 'Chirstian', 'last_name': 'Koblick'}\n",
      "{'first_name': 'Anneke', 'last_name': 'Preusig'}\n",
      "{'first_name': 'Tzvetan', 'last_name': 'Zielinski'}\n",
      "{'first_name': 'Saniya', 'last_name': 'Kalloufi'}\n",
      "{'first_name': 'Sumant', 'last_name': 'Peac'}\n",
      "{'first_name': 'Duangkaew', 'last_name': 'Piveteau'}\n",
      "{'first_name': 'Mary', 'last_name': 'Sluis'}\n",
      "{'first_name': 'Patricio', 'last_name': 'Bridgland'}\n"
     ]
    }
   ],
   "source": [
    "with conn.cursor() as cursor:\n",
    "    sql = \"select first_name, last_name from employees \"\n",
    "    sql+=\" where first_name like %s\" #%s로 외부에서 값을 받음\n",
    "    sql+=\" limit 0,10\"\n",
    "    cursor.execute(sql,('%a%'))\n",
    "    result = cursor.fetchall()\n",
    "    for index in result:\n",
    "        print(index)"
   ]
  },
  {
   "cell_type": "code",
   "execution_count": 51,
   "metadata": {},
   "outputs": [
    {
     "ename": "Error",
     "evalue": "Already closed",
     "output_type": "error",
     "traceback": [
      "\u001b[1;31m---------------------------------------------------------------------------\u001b[0m",
      "\u001b[1;31mError\u001b[0m                                     Traceback (most recent call last)",
      "\u001b[1;32m<ipython-input-51-8dd0cd799055>\u001b[0m in \u001b[0;36m<module>\u001b[1;34m\u001b[0m\n\u001b[1;32m----> 1\u001b[1;33m \u001b[0mconn\u001b[0m\u001b[1;33m.\u001b[0m\u001b[0mclose\u001b[0m\u001b[1;33m(\u001b[0m\u001b[1;33m)\u001b[0m\u001b[1;33m\u001b[0m\u001b[1;33m\u001b[0m\u001b[0m\n\u001b[0m",
      "\u001b[1;32mC:\\Anaconda3\\lib\\site-packages\\pymysql\\connections.py\u001b[0m in \u001b[0;36mclose\u001b[1;34m(self)\u001b[0m\n\u001b[0;32m    354\u001b[0m         \"\"\"\n\u001b[0;32m    355\u001b[0m         \u001b[1;32mif\u001b[0m \u001b[0mself\u001b[0m\u001b[1;33m.\u001b[0m\u001b[0m_closed\u001b[0m\u001b[1;33m:\u001b[0m\u001b[1;33m\u001b[0m\u001b[1;33m\u001b[0m\u001b[0m\n\u001b[1;32m--> 356\u001b[1;33m             \u001b[1;32mraise\u001b[0m \u001b[0merr\u001b[0m\u001b[1;33m.\u001b[0m\u001b[0mError\u001b[0m\u001b[1;33m(\u001b[0m\u001b[1;34m\"Already closed\"\u001b[0m\u001b[1;33m)\u001b[0m\u001b[1;33m\u001b[0m\u001b[1;33m\u001b[0m\u001b[0m\n\u001b[0m\u001b[0;32m    357\u001b[0m         \u001b[0mself\u001b[0m\u001b[1;33m.\u001b[0m\u001b[0m_closed\u001b[0m \u001b[1;33m=\u001b[0m \u001b[1;32mTrue\u001b[0m\u001b[1;33m\u001b[0m\u001b[1;33m\u001b[0m\u001b[0m\n\u001b[0;32m    358\u001b[0m         \u001b[1;32mif\u001b[0m \u001b[0mself\u001b[0m\u001b[1;33m.\u001b[0m\u001b[0m_sock\u001b[0m \u001b[1;32mis\u001b[0m \u001b[1;32mNone\u001b[0m\u001b[1;33m:\u001b[0m\u001b[1;33m\u001b[0m\u001b[1;33m\u001b[0m\u001b[0m\n",
      "\u001b[1;31mError\u001b[0m: Already closed"
     ]
    }
   ],
   "source": [
    "conn.close()"
   ]
  },
  {
   "cell_type": "code",
   "execution_count": 52,
   "metadata": {},
   "outputs": [],
   "source": [
    "#Q1 sungjuck id name  // hak1 ban1  -> sql\n",
    "#Q2 sungjuck kor >= 50  -> sql2\n",
    "#Q3 sungjuck kor>70 and hak = 1  -> sql3\n",
    "#Q4 name = a  -> sql4"
   ]
  },
  {
   "cell_type": "code",
   "execution_count": 93,
   "metadata": {},
   "outputs": [],
   "source": [
    "conn = mysql.connect(host='127.0.0.1',\n",
    "                             user='root',\n",
    "                             password='kita',\n",
    "                             db='t1',\n",
    "                             charset='utf8',\n",
    "                             cursorclass=mysql.cursors.DictCursor)"
   ]
  },
  {
   "cell_type": "code",
   "execution_count": 94,
   "metadata": {},
   "outputs": [
    {
     "name": "stdout",
     "output_type": "stream",
     "text": [
      "{'hak': 1, 'ban': 1, 'kor': 100, 'id': 3, 'name': 'a'}\n",
      "{'hak': 1, 'ban': 1, 'kor': None, 'id': 4, 'name': 'b'}\n",
      "{'hak': 1, 'ban': 1, 'kor': None, 'id': 5, 'name': 'c'}\n"
     ]
    }
   ],
   "source": [
    "with conn.cursor() as cursor:\n",
    "    #Q1\n",
    "    sql1 = \"select hak,ban, kor, id, name from sungjuck \"\n",
    "    sql1+= \" where hak =%s and ban=%s  \" #%s로 외부에서 값을 받음\n",
    "    #Q2\n",
    "    sql2 = \"select id, name, kor from sungjuck \"\n",
    "    sql2+=\" where kor >=%s\"\n",
    "    #Q3\n",
    "    sql3=\"select hak, id, name, kor from sungjuck\"\n",
    "    sql3+=\" where kor>%s and hak =%s\"\n",
    "    #Q4\n",
    "    sql4=\"select id, name from sungjuck\"\n",
    "    sql4+=\" where name like %s \"\n",
    "    #sql+=\" limit 0,10\"\n",
    "    cursor.execute(sql1,(1,1))\n",
    "    result = cursor.fetchall()\n",
    "    for row in result:\n",
    "        print(row)"
   ]
  },
  {
   "cell_type": "code",
   "execution_count": 95,
   "metadata": {},
   "outputs": [],
   "source": [
    "conn.close()"
   ]
  },
  {
   "cell_type": "code",
   "execution_count": 91,
   "metadata": {},
   "outputs": [
    {
     "name": "stdout",
     "output_type": "stream",
     "text": [
      "입력완료\n",
      "클로즈 완료\n"
     ]
    }
   ],
   "source": [
    "# insert\n",
    "import pymysql as mysql\n",
    "\n",
    "conn = mysql.connect(host='127.0.0.1',\n",
    "                             user='root',\n",
    "                             password='kita',\n",
    "                             db='t1',\n",
    "                             charset='utf8',\n",
    "                             cursorclass=mysql.cursors.DictCursor)\n",
    "try:\n",
    "    with conn.cursor() as cursor:\n",
    "        sql = \"insert into sungjuck(name, kor, hak, ban) \"\n",
    "        sql += \" values(%s, %s, %s, %s)\"\n",
    "        cursor.execute(sql,('hong gil', 100, 2, 3))\n",
    "        conn.commit() \n",
    "        print(\"입력완료\")\n",
    "except:\n",
    "    conn.rollback()\n",
    "finally:\n",
    "    conn.close()\n",
    "    "
   ]
  },
  {
   "cell_type": "code",
   "execution_count": 55,
   "metadata": {},
   "outputs": [],
   "source": []
  },
  {
   "cell_type": "code",
   "execution_count": null,
   "metadata": {},
   "outputs": [],
   "source": []
  }
 ],
 "metadata": {
  "kernelspec": {
   "display_name": "Python 3",
   "language": "python",
   "name": "python3"
  },
  "language_info": {
   "codemirror_mode": {
    "name": "ipython",
    "version": 3
   },
   "file_extension": ".py",
   "mimetype": "text/x-python",
   "name": "python",
   "nbconvert_exporter": "python",
   "pygments_lexer": "ipython3",
   "version": "3.8.5"
  }
 },
 "nbformat": 4,
 "nbformat_minor": 4
}
