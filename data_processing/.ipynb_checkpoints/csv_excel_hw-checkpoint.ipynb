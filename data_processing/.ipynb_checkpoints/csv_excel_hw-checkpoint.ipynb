{
 "cells": [
  {
   "cell_type": "code",
   "execution_count": 129,
   "metadata": {},
   "outputs": [],
   "source": [
    "member=[{'name':'hong1','age':10,'addr':'seoul1'},{'name':'hong2','age':15,'gender':'m','addr':'seoul2'},{'name':'hong3','age':20,'addr':'seoul3'},{'name':'hong4','age':25,'addr':'seoul4'}]"
   ]
  },
  {
   "cell_type": "markdown",
   "metadata": {},
   "source": [
    "1. csv 저장, xlsx 저장, json 저장을 하시오."
   ]
  },
  {
   "cell_type": "code",
   "execution_count": 16,
   "metadata": {},
   "outputs": [
    {
     "name": "stdout",
     "output_type": "stream",
     "text": [
      "글쓰기 종료\n"
     ]
    }
   ],
   "source": [
    "import csv\n",
    "from collections import defaultdict \n",
    "\n",
    "with open('./data/data.csv','w',encoding='utf-8',newline='') as f:\n",
    "    fieldnames = ['name','age','addr']\n",
    "    wd=csv.DictWriter(f, fieldnames=fieldnames)\n",
    "    wd.writeheader()\n",
    "    wd.writerows(member)\n",
    "    \n",
    "print('글쓰기 종료')"
   ]
  },
  {
   "cell_type": "code",
   "execution_count": 19,
   "metadata": {
    "scrolled": true
   },
   "outputs": [
    {
     "name": "stdout",
     "output_type": "stream",
     "text": [
      "쓰기 종료\n"
     ]
    }
   ],
   "source": [
    "with open('./data/data2.json','w', encoding=\"utf-8\") as f:\n",
    "    json.dump(member,f)\n",
    "print('쓰기 종료')"
   ]
  },
  {
   "cell_type": "code",
   "execution_count": 131,
   "metadata": {},
   "outputs": [
    {
     "name": "stdout",
     "output_type": "stream",
     "text": [
      "data write done\n"
     ]
    }
   ],
   "source": [
    "from collections import defaultdict\n",
    "from openpyxl import Workbook\n",
    "from openpyxl.utils import get_column_letter\n",
    "\n",
    "title=[]\n",
    "\n",
    "wb = Workbook()\n",
    "\n",
    "ws1 = wb.active\n",
    "ws1.title = \"member\"\n",
    "\n",
    "dest_filename='member.xlsx'\n",
    "\n",
    "item=[]\n",
    "\n",
    "for index in member:\n",
    "     for title in index.keys():\n",
    "             if title not in item:\n",
    "                    item.append(title)\n",
    "\n",
    "for i, col in enumerate(range(len(item))):\n",
    "    ws1.cell(column=i+1, row=1, value='{0}'.format(item[col]))\n",
    "\n",
    "    \n",
    "for i,  member_data in enumerate(member):\n",
    "     for j in  member_data.keys():\n",
    "            loc=  item.index(j)\n",
    "            #print(loc, member_data[j])\n",
    "            ws1.cell(column=loc+1, row=i+2, value=member_data[j])\n",
    "            \n",
    "print('data write done')  \n",
    "wb.save(filename = './data/member_sample2.xlsx')\n",
    "wb.close()    \n",
    "    "
   ]
  },
  {
   "cell_type": "code",
   "execution_count": 140,
   "metadata": {},
   "outputs": [
    {
     "name": "stdout",
     "output_type": "stream",
     "text": [
      "name  age  addr  gender  \n",
      "hong1  10  seoul1  None  \n",
      "hong2  15  seoul2  m  \n",
      "hong3  20  seoul3  None  \n",
      "hong4  25  seoul4  None  \n"
     ]
    }
   ],
   "source": [
    "from openpyxl import load_workbook\n",
    "wb = load_workbook(filename = './data/member_sample2.xlsx')\n",
    "\n",
    "ws1 = wb.active\n",
    "# print(ws1.max_column)\n",
    "# print(ws1.max_row)\n",
    "\n",
    "col=ws1.max_column\n",
    "row=ws1.max_row\n",
    "for i in range(1, row+1):\n",
    "    for j in range(1, col+1):\n",
    "         print(ws1.cell(i, j).value, end='  ')\n",
    "    print()"
   ]
  },
  {
   "cell_type": "code",
   "execution_count": null,
   "metadata": {},
   "outputs": [],
   "source": []
  }
 ],
 "metadata": {
  "kernelspec": {
   "display_name": "Python 3",
   "language": "python",
   "name": "python3"
  },
  "language_info": {
   "codemirror_mode": {
    "name": "ipython",
    "version": 3
   },
   "file_extension": ".py",
   "mimetype": "text/x-python",
   "name": "python",
   "nbconvert_exporter": "python",
   "pygments_lexer": "ipython3",
   "version": "3.8.5"
  }
 },
 "nbformat": 4,
 "nbformat_minor": 4
}
