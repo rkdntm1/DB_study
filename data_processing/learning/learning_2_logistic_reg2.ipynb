{
 "cells": [
  {
   "cell_type": "code",
   "execution_count": 1,
   "metadata": {},
   "outputs": [
    {
     "data": {
      "text/html": [
       "<div>\n",
       "<style scoped>\n",
       "    .dataframe tbody tr th:only-of-type {\n",
       "        vertical-align: middle;\n",
       "    }\n",
       "\n",
       "    .dataframe tbody tr th {\n",
       "        vertical-align: top;\n",
       "    }\n",
       "\n",
       "    .dataframe thead th {\n",
       "        text-align: right;\n",
       "    }\n",
       "</style>\n",
       "<table border=\"1\" class=\"dataframe\">\n",
       "  <thead>\n",
       "    <tr style=\"text-align: right;\">\n",
       "      <th></th>\n",
       "      <th>p1</th>\n",
       "      <th>Glucose</th>\n",
       "      <th>BloodPressure</th>\n",
       "      <th>SkinThickness</th>\n",
       "      <th>Insulin</th>\n",
       "      <th>BMI</th>\n",
       "      <th>DiabetesPedigreeFunction</th>\n",
       "      <th>Age</th>\n",
       "      <th>Outcome</th>\n",
       "    </tr>\n",
       "  </thead>\n",
       "  <tbody>\n",
       "    <tr>\n",
       "      <th>0</th>\n",
       "      <td>6</td>\n",
       "      <td>148</td>\n",
       "      <td>72</td>\n",
       "      <td>35</td>\n",
       "      <td>0</td>\n",
       "      <td>33.6</td>\n",
       "      <td>0.627</td>\n",
       "      <td>50</td>\n",
       "      <td>1</td>\n",
       "    </tr>\n",
       "    <tr>\n",
       "      <th>1</th>\n",
       "      <td>1</td>\n",
       "      <td>85</td>\n",
       "      <td>66</td>\n",
       "      <td>29</td>\n",
       "      <td>0</td>\n",
       "      <td>26.6</td>\n",
       "      <td>0.351</td>\n",
       "      <td>31</td>\n",
       "      <td>0</td>\n",
       "    </tr>\n",
       "    <tr>\n",
       "      <th>2</th>\n",
       "      <td>8</td>\n",
       "      <td>183</td>\n",
       "      <td>64</td>\n",
       "      <td>0</td>\n",
       "      <td>0</td>\n",
       "      <td>23.3</td>\n",
       "      <td>0.672</td>\n",
       "      <td>32</td>\n",
       "      <td>1</td>\n",
       "    </tr>\n",
       "    <tr>\n",
       "      <th>3</th>\n",
       "      <td>1</td>\n",
       "      <td>89</td>\n",
       "      <td>66</td>\n",
       "      <td>23</td>\n",
       "      <td>94</td>\n",
       "      <td>28.1</td>\n",
       "      <td>0.167</td>\n",
       "      <td>21</td>\n",
       "      <td>0</td>\n",
       "    </tr>\n",
       "    <tr>\n",
       "      <th>4</th>\n",
       "      <td>0</td>\n",
       "      <td>137</td>\n",
       "      <td>40</td>\n",
       "      <td>35</td>\n",
       "      <td>168</td>\n",
       "      <td>43.1</td>\n",
       "      <td>2.288</td>\n",
       "      <td>33</td>\n",
       "      <td>1</td>\n",
       "    </tr>\n",
       "    <tr>\n",
       "      <th>...</th>\n",
       "      <td>...</td>\n",
       "      <td>...</td>\n",
       "      <td>...</td>\n",
       "      <td>...</td>\n",
       "      <td>...</td>\n",
       "      <td>...</td>\n",
       "      <td>...</td>\n",
       "      <td>...</td>\n",
       "      <td>...</td>\n",
       "    </tr>\n",
       "    <tr>\n",
       "      <th>763</th>\n",
       "      <td>10</td>\n",
       "      <td>101</td>\n",
       "      <td>76</td>\n",
       "      <td>48</td>\n",
       "      <td>180</td>\n",
       "      <td>32.9</td>\n",
       "      <td>0.171</td>\n",
       "      <td>63</td>\n",
       "      <td>0</td>\n",
       "    </tr>\n",
       "    <tr>\n",
       "      <th>764</th>\n",
       "      <td>2</td>\n",
       "      <td>122</td>\n",
       "      <td>70</td>\n",
       "      <td>27</td>\n",
       "      <td>0</td>\n",
       "      <td>36.8</td>\n",
       "      <td>0.340</td>\n",
       "      <td>27</td>\n",
       "      <td>0</td>\n",
       "    </tr>\n",
       "    <tr>\n",
       "      <th>765</th>\n",
       "      <td>5</td>\n",
       "      <td>121</td>\n",
       "      <td>72</td>\n",
       "      <td>23</td>\n",
       "      <td>112</td>\n",
       "      <td>26.2</td>\n",
       "      <td>0.245</td>\n",
       "      <td>30</td>\n",
       "      <td>0</td>\n",
       "    </tr>\n",
       "    <tr>\n",
       "      <th>766</th>\n",
       "      <td>1</td>\n",
       "      <td>126</td>\n",
       "      <td>60</td>\n",
       "      <td>0</td>\n",
       "      <td>0</td>\n",
       "      <td>30.1</td>\n",
       "      <td>0.349</td>\n",
       "      <td>47</td>\n",
       "      <td>1</td>\n",
       "    </tr>\n",
       "    <tr>\n",
       "      <th>767</th>\n",
       "      <td>1</td>\n",
       "      <td>93</td>\n",
       "      <td>70</td>\n",
       "      <td>31</td>\n",
       "      <td>0</td>\n",
       "      <td>30.4</td>\n",
       "      <td>0.315</td>\n",
       "      <td>23</td>\n",
       "      <td>0</td>\n",
       "    </tr>\n",
       "  </tbody>\n",
       "</table>\n",
       "<p>768 rows × 9 columns</p>\n",
       "</div>"
      ],
      "text/plain": [
       "     p1  Glucose  BloodPressure  SkinThickness  Insulin   BMI  \\\n",
       "0     6      148             72             35        0  33.6   \n",
       "1     1       85             66             29        0  26.6   \n",
       "2     8      183             64              0        0  23.3   \n",
       "3     1       89             66             23       94  28.1   \n",
       "4     0      137             40             35      168  43.1   \n",
       "..   ..      ...            ...            ...      ...   ...   \n",
       "763  10      101             76             48      180  32.9   \n",
       "764   2      122             70             27        0  36.8   \n",
       "765   5      121             72             23      112  26.2   \n",
       "766   1      126             60              0        0  30.1   \n",
       "767   1       93             70             31        0  30.4   \n",
       "\n",
       "     DiabetesPedigreeFunction  Age  Outcome  \n",
       "0                       0.627   50        1  \n",
       "1                       0.351   31        0  \n",
       "2                       0.672   32        1  \n",
       "3                       0.167   21        0  \n",
       "4                       2.288   33        1  \n",
       "..                        ...  ...      ...  \n",
       "763                     0.171   63        0  \n",
       "764                     0.340   27        0  \n",
       "765                     0.245   30        0  \n",
       "766                     0.349   47        1  \n",
       "767                     0.315   23        0  \n",
       "\n",
       "[768 rows x 9 columns]"
      ]
     },
     "execution_count": 1,
     "metadata": {},
     "output_type": "execute_result"
    }
   ],
   "source": [
    "import pandas as pd\n",
    "col_names = ['pregnant', 'glucose', 'bp', 'skin', 'insulin', 'bmi', 'pedigree', 'age', 'outcome']\n",
    "pima = pd.read_csv(\"./data/diabetes.csv\",header=0)\n",
    "\n",
    "pima.rename({'Pregnancies':'p1'},axis=1)\n",
    "\n"
   ]
  },
  {
   "cell_type": "code",
   "execution_count": 2,
   "metadata": {
    "scrolled": false
   },
   "outputs": [
    {
     "data": {
      "text/html": [
       "<div>\n",
       "<style scoped>\n",
       "    .dataframe tbody tr th:only-of-type {\n",
       "        vertical-align: middle;\n",
       "    }\n",
       "\n",
       "    .dataframe tbody tr th {\n",
       "        vertical-align: top;\n",
       "    }\n",
       "\n",
       "    .dataframe thead th {\n",
       "        text-align: right;\n",
       "    }\n",
       "</style>\n",
       "<table border=\"1\" class=\"dataframe\">\n",
       "  <thead>\n",
       "    <tr style=\"text-align: right;\">\n",
       "      <th></th>\n",
       "      <th>pregnant</th>\n",
       "      <th>glucose</th>\n",
       "      <th>bp</th>\n",
       "      <th>skin</th>\n",
       "      <th>insulin</th>\n",
       "      <th>bmi</th>\n",
       "      <th>pedigree</th>\n",
       "      <th>age</th>\n",
       "      <th>outcome</th>\n",
       "    </tr>\n",
       "  </thead>\n",
       "  <tbody>\n",
       "    <tr>\n",
       "      <th>0</th>\n",
       "      <td>6</td>\n",
       "      <td>148</td>\n",
       "      <td>72</td>\n",
       "      <td>35</td>\n",
       "      <td>0</td>\n",
       "      <td>33.6</td>\n",
       "      <td>0.627</td>\n",
       "      <td>50</td>\n",
       "      <td>1</td>\n",
       "    </tr>\n",
       "    <tr>\n",
       "      <th>1</th>\n",
       "      <td>1</td>\n",
       "      <td>85</td>\n",
       "      <td>66</td>\n",
       "      <td>29</td>\n",
       "      <td>0</td>\n",
       "      <td>26.6</td>\n",
       "      <td>0.351</td>\n",
       "      <td>31</td>\n",
       "      <td>0</td>\n",
       "    </tr>\n",
       "    <tr>\n",
       "      <th>2</th>\n",
       "      <td>8</td>\n",
       "      <td>183</td>\n",
       "      <td>64</td>\n",
       "      <td>0</td>\n",
       "      <td>0</td>\n",
       "      <td>23.3</td>\n",
       "      <td>0.672</td>\n",
       "      <td>32</td>\n",
       "      <td>1</td>\n",
       "    </tr>\n",
       "    <tr>\n",
       "      <th>3</th>\n",
       "      <td>1</td>\n",
       "      <td>89</td>\n",
       "      <td>66</td>\n",
       "      <td>23</td>\n",
       "      <td>94</td>\n",
       "      <td>28.1</td>\n",
       "      <td>0.167</td>\n",
       "      <td>21</td>\n",
       "      <td>0</td>\n",
       "    </tr>\n",
       "    <tr>\n",
       "      <th>4</th>\n",
       "      <td>0</td>\n",
       "      <td>137</td>\n",
       "      <td>40</td>\n",
       "      <td>35</td>\n",
       "      <td>168</td>\n",
       "      <td>43.1</td>\n",
       "      <td>2.288</td>\n",
       "      <td>33</td>\n",
       "      <td>1</td>\n",
       "    </tr>\n",
       "  </tbody>\n",
       "</table>\n",
       "</div>"
      ],
      "text/plain": [
       "   pregnant  glucose  bp  skin  insulin   bmi  pedigree  age  outcome\n",
       "0         6      148  72    35        0  33.6     0.627   50        1\n",
       "1         1       85  66    29        0  26.6     0.351   31        0\n",
       "2         8      183  64     0        0  23.3     0.672   32        1\n",
       "3         1       89  66    23       94  28.1     0.167   21        0\n",
       "4         0      137  40    35      168  43.1     2.288   33        1"
      ]
     },
     "execution_count": 2,
     "metadata": {},
     "output_type": "execute_result"
    }
   ],
   "source": [
    "import pandas\n",
    "import pandas as pd\n",
    "col_names = ['pregnant', 'glucose', 'bp', 'skin', 'insulin', 'bmi', 'pedigree', 'age', 'outcome']\n",
    "# load dataset\n",
    "pima = pd.read_csv(\"./data/diabetes.csv\",header=0)\n",
    "pima.rename({i :j for i, j in zip(pima.columns,col_names)}, axis=1, inplace=True)\n",
    "pima.head()"
   ]
  },
  {
   "cell_type": "code",
   "execution_count": 3,
   "metadata": {},
   "outputs": [
    {
     "data": {
      "text/html": [
       "<div>\n",
       "<style scoped>\n",
       "    .dataframe tbody tr th:only-of-type {\n",
       "        vertical-align: middle;\n",
       "    }\n",
       "\n",
       "    .dataframe tbody tr th {\n",
       "        vertical-align: top;\n",
       "    }\n",
       "\n",
       "    .dataframe thead th {\n",
       "        text-align: right;\n",
       "    }\n",
       "</style>\n",
       "<table border=\"1\" class=\"dataframe\">\n",
       "  <thead>\n",
       "    <tr style=\"text-align: right;\">\n",
       "      <th></th>\n",
       "      <th>pregnant</th>\n",
       "      <th>glucose</th>\n",
       "      <th>bp</th>\n",
       "      <th>skin</th>\n",
       "      <th>insulin</th>\n",
       "      <th>bmi</th>\n",
       "      <th>pedigree</th>\n",
       "      <th>age</th>\n",
       "      <th>outcome</th>\n",
       "    </tr>\n",
       "  </thead>\n",
       "  <tbody>\n",
       "    <tr>\n",
       "      <th>0</th>\n",
       "      <td>6</td>\n",
       "      <td>148</td>\n",
       "      <td>72</td>\n",
       "      <td>35</td>\n",
       "      <td>0</td>\n",
       "      <td>33.6</td>\n",
       "      <td>0.627</td>\n",
       "      <td>50</td>\n",
       "      <td>1</td>\n",
       "    </tr>\n",
       "    <tr>\n",
       "      <th>1</th>\n",
       "      <td>1</td>\n",
       "      <td>85</td>\n",
       "      <td>66</td>\n",
       "      <td>29</td>\n",
       "      <td>0</td>\n",
       "      <td>26.6</td>\n",
       "      <td>0.351</td>\n",
       "      <td>31</td>\n",
       "      <td>0</td>\n",
       "    </tr>\n",
       "    <tr>\n",
       "      <th>2</th>\n",
       "      <td>8</td>\n",
       "      <td>183</td>\n",
       "      <td>64</td>\n",
       "      <td>0</td>\n",
       "      <td>0</td>\n",
       "      <td>23.3</td>\n",
       "      <td>0.672</td>\n",
       "      <td>32</td>\n",
       "      <td>1</td>\n",
       "    </tr>\n",
       "    <tr>\n",
       "      <th>3</th>\n",
       "      <td>1</td>\n",
       "      <td>89</td>\n",
       "      <td>66</td>\n",
       "      <td>23</td>\n",
       "      <td>94</td>\n",
       "      <td>28.1</td>\n",
       "      <td>0.167</td>\n",
       "      <td>21</td>\n",
       "      <td>0</td>\n",
       "    </tr>\n",
       "    <tr>\n",
       "      <th>4</th>\n",
       "      <td>0</td>\n",
       "      <td>137</td>\n",
       "      <td>40</td>\n",
       "      <td>35</td>\n",
       "      <td>168</td>\n",
       "      <td>43.1</td>\n",
       "      <td>2.288</td>\n",
       "      <td>33</td>\n",
       "      <td>1</td>\n",
       "    </tr>\n",
       "  </tbody>\n",
       "</table>\n",
       "</div>"
      ],
      "text/plain": [
       "   pregnant  glucose  bp  skin  insulin   bmi  pedigree  age  outcome\n",
       "0         6      148  72    35        0  33.6     0.627   50        1\n",
       "1         1       85  66    29        0  26.6     0.351   31        0\n",
       "2         8      183  64     0        0  23.3     0.672   32        1\n",
       "3         1       89  66    23       94  28.1     0.167   21        0\n",
       "4         0      137  40    35      168  43.1     2.288   33        1"
      ]
     },
     "execution_count": 3,
     "metadata": {},
     "output_type": "execute_result"
    }
   ],
   "source": [
    "pima.head()"
   ]
  },
  {
   "cell_type": "code",
   "execution_count": 4,
   "metadata": {},
   "outputs": [
    {
     "data": {
      "text/plain": [
       "111"
      ]
     },
     "execution_count": 4,
     "metadata": {},
     "output_type": "execute_result"
    }
   ],
   "source": [
    "pima[pima['pregnant']==0]['pregnant'].count()"
   ]
  },
  {
   "cell_type": "code",
   "execution_count": 5,
   "metadata": {},
   "outputs": [
    {
     "name": "stdout",
     "output_type": "stream",
     "text": [
      "pregnant 111\n",
      "glucose 5\n",
      "bp 35\n",
      "skin 227\n",
      "insulin 374\n",
      "bmi 11\n",
      "pedigree 0\n",
      "age 0\n",
      "outcome 500\n"
     ]
    }
   ],
   "source": [
    "# 데이터가 0인 index 들 의 각각의 0을 가진 데이터 수 출력하기\n",
    "for index in pima.columns:\n",
    "    data=pima[pima[index]==0][index].count()\n",
    "    print(index, data)"
   ]
  },
  {
   "cell_type": "code",
   "execution_count": 6,
   "metadata": {},
   "outputs": [],
   "source": [
    "# outcome 을 제외한 모든 데이터들의 0 값을 nan 값으로 replace해줌\n",
    "import numpy as np\n",
    "pima.iloc[:,:-1]=pima.replace(0,np.nan )"
   ]
  },
  {
   "cell_type": "code",
   "execution_count": 7,
   "metadata": {},
   "outputs": [
    {
     "name": "stdout",
     "output_type": "stream",
     "text": [
      "pregnant 0\n",
      "glucose 0\n",
      "bp 0\n",
      "skin 0\n",
      "insulin 0\n",
      "bmi 0\n",
      "pedigree 0\n",
      "age 0\n",
      "outcome 500\n"
     ]
    }
   ],
   "source": [
    "# nan 값으로 변경후 0 값이 있는지 재확인\n",
    "for index in pima.columns:\n",
    "    data=pima[pima[index]==0][index].count()\n",
    "    print(index, data)"
   ]
  },
  {
   "cell_type": "code",
   "execution_count": 6,
   "metadata": {},
   "outputs": [],
   "source": [
    "# outcome 값이 1인 것과 0인 것의 데이터를 나누어줌\n",
    "positive=pima[pima['outcome']==1].copy()\n",
    "negative=pima[pima['outcome']==0].copy()"
   ]
  },
  {
   "cell_type": "code",
   "execution_count": 7,
   "metadata": {},
   "outputs": [
    {
     "name": "stdout",
     "output_type": "stream",
     "text": [
      "<class 'pandas.core.frame.DataFrame'>\n",
      "Int64Index: 268 entries, 0 to 766\n",
      "Data columns (total 9 columns):\n",
      " #   Column    Non-Null Count  Dtype  \n",
      "---  ------    --------------  -----  \n",
      " 0   pregnant  230 non-null    float64\n",
      " 1   glucose   266 non-null    float64\n",
      " 2   bp        252 non-null    float64\n",
      " 3   skin      180 non-null    float64\n",
      " 4   insulin   130 non-null    float64\n",
      " 5   bmi       266 non-null    float64\n",
      " 6   pedigree  268 non-null    float64\n",
      " 7   age       268 non-null    int64  \n",
      " 8   outcome   268 non-null    int64  \n",
      "dtypes: float64(7), int64(2)\n",
      "memory usage: 20.9 KB\n",
      "None\n",
      "<class 'pandas.core.frame.DataFrame'>\n",
      "Int64Index: 500 entries, 1 to 767\n",
      "Data columns (total 9 columns):\n",
      " #   Column    Non-Null Count  Dtype  \n",
      "---  ------    --------------  -----  \n",
      " 0   pregnant  427 non-null    float64\n",
      " 1   glucose   497 non-null    float64\n",
      " 2   bp        481 non-null    float64\n",
      " 3   skin      361 non-null    float64\n",
      " 4   insulin   264 non-null    float64\n",
      " 5   bmi       491 non-null    float64\n",
      " 6   pedigree  500 non-null    float64\n",
      " 7   age       500 non-null    int64  \n",
      " 8   outcome   500 non-null    int64  \n",
      "dtypes: float64(7), int64(2)\n",
      "memory usage: 39.1 KB\n",
      "None\n"
     ]
    }
   ],
   "source": [
    "# outcome으로 나누어준 데이터들의 각각의 info 를 확인\n",
    "print(positive.info())\n",
    "print(negative.info())"
   ]
  },
  {
   "cell_type": "code",
   "execution_count": 8,
   "metadata": {},
   "outputs": [
    {
     "name": "stdout",
     "output_type": "stream",
     "text": [
      "pregnant     38\n",
      "glucose       2\n",
      "bp           16\n",
      "skin         88\n",
      "insulin     138\n",
      "bmi           2\n",
      "pedigree      0\n",
      "age           0\n",
      "outcome       0\n",
      "dtype: int64\n",
      "pregnant     73\n",
      "glucose       3\n",
      "bp           19\n",
      "skin        139\n",
      "insulin     236\n",
      "bmi           9\n",
      "pedigree      0\n",
      "age           0\n",
      "outcome       0\n",
      "dtype: int64\n"
     ]
    }
   ],
   "source": [
    "# 각각의 null값의 갯수를 출력 해봄\n",
    "print(positive.isnull().sum())\n",
    "print(negative.isnull().sum())"
   ]
  },
  {
   "cell_type": "code",
   "execution_count": 9,
   "metadata": {},
   "outputs": [],
   "source": [
    "# 1 인 데이터들의 nan 값들에 fillna로 평균 값을 채워줌.\n",
    "# inplace로 새로운 메모리를 할당하지 않고 저장\n",
    "for index in positive.columns:\n",
    "    positive[index].fillna(positive[index].mean(),inplace=True)"
   ]
  },
  {
   "cell_type": "code",
   "execution_count": 10,
   "metadata": {},
   "outputs": [],
   "source": [
    "# 0 인 데이터들의 nan 값들에 평균 값을 채워줌.\n",
    "for index in negative.columns:\n",
    "    negative[index].fillna(negative[index].mean(),inplace=True)"
   ]
  },
  {
   "cell_type": "code",
   "execution_count": 11,
   "metadata": {},
   "outputs": [],
   "source": [
    "# 1인 데이터들과 1인 데이터들을 concat 으로 합쳐줌 \n",
    "pima=pd.concat([positive, negative],ignore_index=True)\n",
    "# ignore_index  : 인덱스를 재정렬시켜줌"
   ]
  },
  {
   "cell_type": "code",
   "execution_count": 12,
   "metadata": {},
   "outputs": [
    {
     "name": "stdout",
     "output_type": "stream",
     "text": [
      "   pregnant  glucose    bp  skin     insulin   bmi  pedigree  age  outcome\n",
      "0  6.000000    148.0  72.0  35.0  206.846154  33.6     0.627   50        1\n",
      "1  8.000000    183.0  64.0  33.0  206.846154  23.3     0.672   32        1\n",
      "2  5.669565    137.0  40.0  35.0  168.000000  43.1     2.288   33        1\n",
      "3  3.000000     78.0  50.0  32.0   88.000000  31.0     0.248   26        1\n",
      "4  2.000000    197.0  70.0  45.0  543.000000  30.5     0.158   53        1\n"
     ]
    }
   ],
   "source": [
    "print(pima.head())"
   ]
  },
  {
   "cell_type": "code",
   "execution_count": 13,
   "metadata": {},
   "outputs": [
    {
     "name": "stdout",
     "output_type": "stream",
     "text": [
      "[[ 0.50391247  0.86401998 -0.03538894  0.64508805  0.56127161  0.16780591\n",
      "   0.46849198  1.4259954 ]\n",
      " [ 1.17252053  2.01374094 -0.69664653  0.42082495  0.56127161 -1.33048716\n",
      "   0.60439732 -0.10558415]\n",
      " [ 0.39344679  0.5026791  -2.68041933  0.64508805  0.12382991  1.54972669\n",
      "   5.4849091  -0.0204964 ]]\n"
     ]
    }
   ],
   "source": [
    "# 스탠다드 스케일링\n",
    "from sklearn.preprocessing  import StandardScaler\n",
    "scaler=StandardScaler()\n",
    "\n",
    "x=pima.iloc[:, :-1] # outcome 제외 데이터들\n",
    "y=pima.iloc[:, -1] # outcome 데이터\n",
    "scaler.fit(x)\n",
    "\n",
    "x_scale=scaler.transform(x)\n",
    "print(x_scale[:3])"
   ]
  },
  {
   "cell_type": "code",
   "execution_count": 14,
   "metadata": {},
   "outputs": [
    {
     "name": "stdout",
     "output_type": "stream",
     "text": [
      "<class 'pandas.core.series.Series'>\n",
      "<class 'numpy.ndarray'>\n"
     ]
    }
   ],
   "source": [
    "print(type(y))\n",
    "print(type(x_scale))"
   ]
  },
  {
   "cell_type": "code",
   "execution_count": 15,
   "metadata": {},
   "outputs": [
    {
     "data": {
      "text/html": [
       "<div>\n",
       "<style scoped>\n",
       "    .dataframe tbody tr th:only-of-type {\n",
       "        vertical-align: middle;\n",
       "    }\n",
       "\n",
       "    .dataframe tbody tr th {\n",
       "        vertical-align: top;\n",
       "    }\n",
       "\n",
       "    .dataframe thead th {\n",
       "        text-align: right;\n",
       "    }\n",
       "</style>\n",
       "<table border=\"1\" class=\"dataframe\">\n",
       "  <thead>\n",
       "    <tr style=\"text-align: right;\">\n",
       "      <th></th>\n",
       "      <th>pregnant</th>\n",
       "      <th>glucose</th>\n",
       "      <th>bp</th>\n",
       "      <th>skin</th>\n",
       "      <th>insulin</th>\n",
       "      <th>bmi</th>\n",
       "      <th>pedigree</th>\n",
       "      <th>age</th>\n",
       "      <th>outcome</th>\n",
       "    </tr>\n",
       "  </thead>\n",
       "  <tbody>\n",
       "    <tr>\n",
       "      <th>0</th>\n",
       "      <td>0.503912</td>\n",
       "      <td>0.864020</td>\n",
       "      <td>-0.035389</td>\n",
       "      <td>0.645088</td>\n",
       "      <td>0.561272</td>\n",
       "      <td>0.167806</td>\n",
       "      <td>0.468492</td>\n",
       "      <td>1.425995</td>\n",
       "      <td>1</td>\n",
       "    </tr>\n",
       "    <tr>\n",
       "      <th>1</th>\n",
       "      <td>1.172521</td>\n",
       "      <td>2.013741</td>\n",
       "      <td>-0.696647</td>\n",
       "      <td>0.420825</td>\n",
       "      <td>0.561272</td>\n",
       "      <td>-1.330487</td>\n",
       "      <td>0.604397</td>\n",
       "      <td>-0.105584</td>\n",
       "      <td>1</td>\n",
       "    </tr>\n",
       "    <tr>\n",
       "      <th>2</th>\n",
       "      <td>0.393447</td>\n",
       "      <td>0.502679</td>\n",
       "      <td>-2.680419</td>\n",
       "      <td>0.645088</td>\n",
       "      <td>0.123830</td>\n",
       "      <td>1.549727</td>\n",
       "      <td>5.484909</td>\n",
       "      <td>-0.020496</td>\n",
       "      <td>1</td>\n",
       "    </tr>\n",
       "    <tr>\n",
       "      <th>3</th>\n",
       "      <td>-0.499000</td>\n",
       "      <td>-1.435422</td>\n",
       "      <td>-1.853847</td>\n",
       "      <td>0.308693</td>\n",
       "      <td>-0.777040</td>\n",
       "      <td>-0.210404</td>\n",
       "      <td>-0.676133</td>\n",
       "      <td>-0.616111</td>\n",
       "      <td>1</td>\n",
       "    </tr>\n",
       "    <tr>\n",
       "      <th>4</th>\n",
       "      <td>-0.833304</td>\n",
       "      <td>2.473629</td>\n",
       "      <td>-0.200703</td>\n",
       "      <td>1.766404</td>\n",
       "      <td>4.346658</td>\n",
       "      <td>-0.283137</td>\n",
       "      <td>-0.947944</td>\n",
       "      <td>1.681259</td>\n",
       "      <td>1</td>\n",
       "    </tr>\n",
       "    <tr>\n",
       "      <th>...</th>\n",
       "      <td>...</td>\n",
       "      <td>...</td>\n",
       "      <td>...</td>\n",
       "      <td>...</td>\n",
       "      <td>...</td>\n",
       "      <td>...</td>\n",
       "      <td>...</td>\n",
       "      <td>...</td>\n",
       "      <td>...</td>\n",
       "    </tr>\n",
       "    <tr>\n",
       "      <th>763</th>\n",
       "      <td>1.506825</td>\n",
       "      <td>-1.074081</td>\n",
       "      <td>-0.861961</td>\n",
       "      <td>-0.225562</td>\n",
       "      <td>-0.300842</td>\n",
       "      <td>-1.446859</td>\n",
       "      <td>-0.996266</td>\n",
       "      <td>-0.020496</td>\n",
       "      <td>0</td>\n",
       "    </tr>\n",
       "    <tr>\n",
       "      <th>764</th>\n",
       "      <td>1.841129</td>\n",
       "      <td>-0.679891</td>\n",
       "      <td>0.295240</td>\n",
       "      <td>2.102798</td>\n",
       "      <td>0.258960</td>\n",
       "      <td>0.065980</td>\n",
       "      <td>-0.908682</td>\n",
       "      <td>2.532136</td>\n",
       "      <td>0</td>\n",
       "    </tr>\n",
       "    <tr>\n",
       "      <th>765</th>\n",
       "      <td>-0.833304</td>\n",
       "      <td>0.009942</td>\n",
       "      <td>-0.200703</td>\n",
       "      <td>-0.251964</td>\n",
       "      <td>-0.300842</td>\n",
       "      <td>0.633295</td>\n",
       "      <td>-0.398282</td>\n",
       "      <td>-0.531023</td>\n",
       "      <td>0</td>\n",
       "    </tr>\n",
       "    <tr>\n",
       "      <th>766</th>\n",
       "      <td>0.169608</td>\n",
       "      <td>-0.022908</td>\n",
       "      <td>-0.035389</td>\n",
       "      <td>-0.700491</td>\n",
       "      <td>-0.506779</td>\n",
       "      <td>-0.908638</td>\n",
       "      <td>-0.685193</td>\n",
       "      <td>-0.275760</td>\n",
       "      <td>0</td>\n",
       "    </tr>\n",
       "    <tr>\n",
       "      <th>767</th>\n",
       "      <td>-1.167608</td>\n",
       "      <td>-0.942684</td>\n",
       "      <td>-0.200703</td>\n",
       "      <td>0.196562</td>\n",
       "      <td>-0.300842</td>\n",
       "      <td>-0.297683</td>\n",
       "      <td>-0.473785</td>\n",
       "      <td>-0.871374</td>\n",
       "      <td>0</td>\n",
       "    </tr>\n",
       "  </tbody>\n",
       "</table>\n",
       "<p>768 rows × 9 columns</p>\n",
       "</div>"
      ],
      "text/plain": [
       "     pregnant   glucose        bp      skin   insulin       bmi  pedigree  \\\n",
       "0    0.503912  0.864020 -0.035389  0.645088  0.561272  0.167806  0.468492   \n",
       "1    1.172521  2.013741 -0.696647  0.420825  0.561272 -1.330487  0.604397   \n",
       "2    0.393447  0.502679 -2.680419  0.645088  0.123830  1.549727  5.484909   \n",
       "3   -0.499000 -1.435422 -1.853847  0.308693 -0.777040 -0.210404 -0.676133   \n",
       "4   -0.833304  2.473629 -0.200703  1.766404  4.346658 -0.283137 -0.947944   \n",
       "..        ...       ...       ...       ...       ...       ...       ...   \n",
       "763  1.506825 -1.074081 -0.861961 -0.225562 -0.300842 -1.446859 -0.996266   \n",
       "764  1.841129 -0.679891  0.295240  2.102798  0.258960  0.065980 -0.908682   \n",
       "765 -0.833304  0.009942 -0.200703 -0.251964 -0.300842  0.633295 -0.398282   \n",
       "766  0.169608 -0.022908 -0.035389 -0.700491 -0.506779 -0.908638 -0.685193   \n",
       "767 -1.167608 -0.942684 -0.200703  0.196562 -0.300842 -0.297683 -0.473785   \n",
       "\n",
       "          age  outcome  \n",
       "0    1.425995        1  \n",
       "1   -0.105584        1  \n",
       "2   -0.020496        1  \n",
       "3   -0.616111        1  \n",
       "4    1.681259        1  \n",
       "..        ...      ...  \n",
       "763 -0.020496        0  \n",
       "764  2.532136        0  \n",
       "765 -0.531023        0  \n",
       "766 -0.275760        0  \n",
       "767 -0.871374        0  \n",
       "\n",
       "[768 rows x 9 columns]"
      ]
     },
     "execution_count": 15,
     "metadata": {},
     "output_type": "execute_result"
    }
   ],
   "source": [
    "std_pima=pd.DataFrame(data=x_scale, columns=col_names[:-1])\n",
    "\n",
    "std_pima['outcome']=y\n",
    "std_pima"
   ]
  },
  {
   "cell_type": "code",
   "execution_count": 16,
   "metadata": {},
   "outputs": [],
   "source": [
    "y=std_pima.iloc[:, -1]\n",
    "x=std_pima.iloc[:, :-1]"
   ]
  },
  {
   "cell_type": "code",
   "execution_count": 17,
   "metadata": {
    "scrolled": false
   },
   "outputs": [
    {
     "name": "stdout",
     "output_type": "stream",
     "text": [
      "268\n",
      "500\n"
     ]
    }
   ],
   "source": [
    "print((y==1).sum())\n",
    "print((y==0).sum())"
   ]
  },
  {
   "cell_type": "code",
   "execution_count": 18,
   "metadata": {},
   "outputs": [],
   "source": [
    "from sklearn.model_selection import train_test_split\n",
    "X_train,X_test,y_train,y_test=train_test_split(x,y,test_size=0.2,random_state=0)"
   ]
  },
  {
   "cell_type": "code",
   "execution_count": 19,
   "metadata": {},
   "outputs": [
    {
     "data": {
      "text/plain": [
       "(154,)"
      ]
     },
     "execution_count": 19,
     "metadata": {},
     "output_type": "execute_result"
    }
   ],
   "source": [
    "from sklearn.linear_model import LogisticRegression\n",
    "from sklearn.metrics import accuracy_score, precision_score, recall_score, precision_score, roc_auc_score,f1_score\n",
    "from sklearn.metrics import f1_score, confusion_matrix, precision_recall_curve, roc_curve\n",
    "from sklearn.preprocessing import StandardScaler\n",
    "\n",
    "# instantiate the model (using the default parameters)\n",
    "logreg = LogisticRegression()\n",
    "\n",
    "# fit the model with data\n",
    "logreg.fit(X_train,y_train)\n",
    "pred=logreg.predict(X_test)\n",
    "\n",
    "pred_proba=logreg.predict_proba(X_test)[:,1]\n",
    "\n",
    "pred_proba.shape"
   ]
  },
  {
   "cell_type": "code",
   "execution_count": 20,
   "metadata": {},
   "outputs": [
    {
     "name": "stdout",
     "output_type": "stream",
     "text": [
      "precision :0.8116883116883117, recall:0.6964285714285714, accuracy:0.8116883116883117 f1:0.7289719626168223\n"
     ]
    }
   ],
   "source": [
    "confusion=confusion_matrix(y_test, pred)\n",
    "\n",
    "accuracy=accuracy_score(y_test, pred)\n",
    "precision=precision_score(y_test, pred)\n",
    "recall =recall_score(y_test, pred)\n",
    "\n",
    "f1=f1_score(y_test, pred)\n",
    "\n",
    "roc_auc=roc_auc_score(y_test, pred_proba)\n",
    "print('precision :{0}, recall:{1}, accuracy:{2} f1:{3}'.format(precision, recall, accuracy,f1 ))"
   ]
  },
  {
   "cell_type": "code",
   "execution_count": 21,
   "metadata": {},
   "outputs": [
    {
     "data": {
      "text/plain": [
       "<matplotlib.legend.Legend at 0x23e33c43640>"
      ]
     },
     "execution_count": 21,
     "metadata": {},
     "output_type": "execute_result"
    },
    {
     "data": {
      "image/png": "[encoded data removed]",
      "text/plain": [
       "<Figure size 432x288 with 1 Axes>"
      ]
     },
     "metadata": {
      "needs_background": "light"
     },
     "output_type": "display_data"
    }
   ],
   "source": [
    "import matplotlib.pyplot as plt\n",
    "pred_proba_c1=logreg.predict_proba(X_test)[:,1]\n",
    "fprs, tprs, threashoders=roc_curve(y_test, pred_proba_c1)\n",
    "\n",
    "plt.plot(fprs, tprs, label='ROC')\n",
    "plt.plot([0,1], [0,1], 'k--', label='Random')\n",
    "\n",
    "start, end=plt.xlim()\n",
    "plt.xticks(np.round(np.arange(start, end, 0.1),2))\n",
    "\n",
    "\n",
    "plt.xlim(0,1)\n",
    "plt.ylim(0,1)\n",
    "\n",
    "plt.xlabel('FPR(1-sensitivity)');\n",
    "plt.ylabel('TPR (recall)')\n",
    "plt.legend()\n",
    "\n"
   ]
  },
  {
   "cell_type": "code",
   "execution_count": 22,
   "metadata": {},
   "outputs": [
    {
     "name": "stdout",
     "output_type": "stream",
     "text": [
      "precision :0.8116883116883117, recall:0.6964285714285714, accuracy:0.8116883116883117 f1:0.7289719626168223\n"
     ]
    }
   ],
   "source": [
    "confusion=confusion_matrix(y_test, pred)\n",
    "\n",
    "accuracy=accuracy_score(y_test, pred)\n",
    "precision=accuracy_score(y_test, pred)\n",
    "recall =recall_score(y_test, pred)\n",
    "\n",
    "f1=f1_score(y_test, pred)\n",
    "\n",
    "roc_auc=roc_auc_score(y_test, pred_proba)\n",
    "print('precision :{0}, recall:{1}, accuracy:{2} f1:{3}'.format(precision, recall, accuracy,f1 ))"
   ]
  },
  {
   "cell_type": "code",
   "execution_count": 23,
   "metadata": {
    "scrolled": false
   },
   "outputs": [
    {
     "name": "stdout",
     "output_type": "stream",
     "text": [
      "data: 0.2 ,precision :0.7272727272727273, recall:0.9821428571428571, accuracy:0.7272727272727273 f1:0.7236842105263158\n",
      "data: 0.21000000000000002 ,precision :0.7467532467532467, recall:0.9821428571428571, accuracy:0.7467532467532467 f1:0.7382550335570469\n",
      "data: 0.22000000000000003 ,precision :0.7467532467532467, recall:0.9821428571428571, accuracy:0.7467532467532467 f1:0.7382550335570469\n",
      "data: 0.23000000000000004 ,precision :0.7532467532467533, recall:0.9821428571428571, accuracy:0.7532467532467533 f1:0.7432432432432433\n",
      "data: 0.24000000000000005 ,precision :0.7662337662337663, recall:0.9821428571428571, accuracy:0.7662337662337663 f1:0.7534246575342465\n",
      "data: 0.25000000000000006 ,precision :0.7662337662337663, recall:0.9821428571428571, accuracy:0.7662337662337663 f1:0.7534246575342465\n",
      "data: 0.26000000000000006 ,precision :0.7662337662337663, recall:0.9642857142857143, accuracy:0.7662337662337663 f1:0.75\n",
      "data: 0.2700000000000001 ,precision :0.7662337662337663, recall:0.9464285714285714, accuracy:0.7662337662337663 f1:0.7464788732394365\n",
      "data: 0.2800000000000001 ,precision :0.7857142857142857, recall:0.9464285714285714, accuracy:0.7857142857142857 f1:0.762589928057554\n",
      "data: 0.2900000000000001 ,precision :0.7987012987012987, recall:0.9464285714285714, accuracy:0.7987012987012987 f1:0.7737226277372262\n",
      "data: 0.3000000000000001 ,precision :0.8116883116883117, recall:0.9464285714285714, accuracy:0.8116883116883117 f1:0.7851851851851852\n",
      "data: 0.3100000000000001 ,precision :0.8246753246753247, recall:0.9285714285714286, accuracy:0.8246753246753247 f1:0.7938931297709924\n",
      "data: 0.3200000000000001 ,precision :0.8246753246753247, recall:0.9285714285714286, accuracy:0.8246753246753247 f1:0.7938931297709924\n",
      "data: 0.3300000000000001 ,precision :0.8311688311688312, recall:0.9285714285714286, accuracy:0.8311688311688312 f1:0.7999999999999999\n",
      "data: 0.34000000000000014 ,precision :0.8441558441558441, recall:0.9285714285714286, accuracy:0.8441558441558441 f1:0.8125000000000001\n",
      "data: 0.35000000000000014 ,precision :0.8376623376623377, recall:0.9107142857142857, accuracy:0.8376623376623377 f1:0.8031496062992126\n",
      "data: 0.36000000000000015 ,precision :0.8506493506493507, recall:0.9107142857142857, accuracy:0.8506493506493507 f1:0.8159999999999998\n",
      "data: 0.37000000000000016 ,precision :0.8441558441558441, recall:0.8928571428571429, accuracy:0.8441558441558441 f1:0.806451612903226\n",
      "data: 0.38000000000000017 ,precision :0.8376623376623377, recall:0.875, accuracy:0.8376623376623377 f1:0.7967479674796748\n",
      "data: 0.3900000000000002 ,precision :0.8376623376623377, recall:0.875, accuracy:0.8376623376623377 f1:0.7967479674796748\n"
     ]
    }
   ],
   "source": [
    "from sklearn.preprocessing import Binarizer\n",
    "\n",
    "for data in np.arange(0.20, 0.40, 0.01):\n",
    "    binarizer=Binarizer(threshold=data)\n",
    "    pred_proba.shape\n",
    "    pred2= binarizer.fit_transform(pred_proba.reshape(-1,1))\n",
    "    confusion=confusion_matrix(y_test, pred2)\n",
    "\n",
    "    accuracy=accuracy_score(y_test, pred2)\n",
    "    precision=accuracy_score(y_test, pred2)\n",
    "    recall =recall_score(y_test, pred2)\n",
    "\n",
    "    f1=f1_score(y_test, pred2)\n",
    "\n",
    "    roc_auc=roc_auc_score(y_test, pred_proba)\n",
    "    print('data: {4} ,precision :{0}, recall:{1}, accuracy:{2} f1:{3}'.format(precision, recall, accuracy,f1, data ))\n",
    "    "
   ]
  },
  {
   "cell_type": "markdown",
   "metadata": {},
   "source": [
    "### data: 0.34000000000000014 \n",
    "precision :0.8441558441558441, recall:0.9285714285714286, accuracy:0.8441558441558441 f1:0.8125000000000001"
   ]
  }
 ],
 "metadata": {
  "kernelspec": {
   "display_name": "Python 3",
   "language": "python",
   "name": "python3"
  },
  "language_info": {
   "codemirror_mode": {
    "name": "ipython",
    "version": 3
   },
   "file_extension": ".py",
   "mimetype": "text/x-python",
   "name": "python",
   "nbconvert_exporter": "python",
   "pygments_lexer": "ipython3",
   "version": "3.8.5"
  }
 },
 "nbformat": 4,
 "nbformat_minor": 4
}
