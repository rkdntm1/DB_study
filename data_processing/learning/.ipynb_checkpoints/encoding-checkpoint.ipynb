{
 "cells": [
  {
   "cell_type": "code",
   "execution_count": 7,
   "metadata": {},
   "outputs": [],
   "source": [
    "from sklearn.preprocessing import LabelEncoder\n",
    "from sklearn import preprocessing\n",
    "import numpy as np"
   ]
  },
  {
   "cell_type": "code",
   "execution_count": 8,
   "metadata": {},
   "outputs": [],
   "source": [
    "books = ['java', 'python', 'c', 'nodejs', 'matplotlib']\n",
    "\n",
    "#숫자로 바꾸기 # 레이블 인코딩\n",
    "encoder = LabelEncoder() \n",
    "encoder.fit(books) #\n",
    "encbook = encoder.transform(books)"
   ]
  },
  {
   "cell_type": "code",
   "execution_count": 9,
   "metadata": {},
   "outputs": [
    {
     "name": "stdout",
     "output_type": "stream",
     "text": [
      "[1 4 0 3 2]\n"
     ]
    }
   ],
   "source": [
    "print(encbook)"
   ]
  },
  {
   "cell_type": "code",
   "execution_count": 14,
   "metadata": {},
   "outputs": [
    {
     "name": "stdout",
     "output_type": "stream",
     "text": [
      "['c' 'java' 'matplotlib' 'nodejs' 'python']\n"
     ]
    }
   ],
   "source": [
    "# 1- c , 4 - java , 0 = mata , 3 = node , 2 = python\n",
    "print(encoder.classes_) "
   ]
  },
  {
   "cell_type": "code",
   "execution_count": 15,
   "metadata": {},
   "outputs": [],
   "source": [
    "# 원-핫 인코딩 ex) (1,2,3,4) -> 1로 묶어줌 / 0\n",
    "# ex) tv, 냉장고, 에어컨 \n",
    "#     1     0        0\n",
    "#     0     1        0\n",
    "#     0     0        1  이런식으로 "
   ]
  },
  {
   "cell_type": "code",
   "execution_count": 17,
   "metadata": {},
   "outputs": [],
   "source": [
    "from sklearn.preprocessing import LabelEncoder, OneHotEncoder\n",
    "import numpy as np"
   ]
  },
  {
   "cell_type": "code",
   "execution_count": 34,
   "metadata": {},
   "outputs": [
    {
     "name": "stdout",
     "output_type": "stream",
     "text": [
      "  (0, 1)\t1.0\n",
      "  (1, 4)\t1.0\n",
      "  (2, 0)\t1.0\n",
      "  (3, 3)\t1.0\n",
      "  (4, 2)\t1.0\n",
      "[[0. 1. 0. 0. 0.]\n",
      " [0. 0. 0. 0. 1.]\n",
      " [1. 0. 0. 0. 0.]\n",
      " [0. 0. 0. 1. 0.]\n",
      " [0. 0. 1. 0. 0.]]\n",
      "['c' 'java' 'matplotlib' 'nodejs' 'python']\n"
     ]
    }
   ],
   "source": [
    "books = ['java', 'python', 'c', 'nodejs', 'matplotlib']\n",
    "encoder = LabelEncoder()\n",
    "encoder.fit(books)\n",
    "encbook = encoder.transform(books)\n",
    "\n",
    "encbook = encbook[:, np.newaxis] # 2차원으로 바꿔줌\n",
    "\n",
    "one_enc = OneHotEncoder() #숫자로 먼저 변형후 해줘야함\n",
    "one_enc.fit(encbook)\n",
    "one_enbook= one_enc.transform(encbook)\n",
    "print(one_enbook)\n",
    "print(one_enbook.toarray())\n",
    "print(encoder.classes_)\n",
    "# 1 - c , 4 - java, 0 - mat, 3 - nod , 2 - pyt\n"
   ]
  },
  {
   "cell_type": "code",
   "execution_count": null,
   "metadata": {},
   "outputs": [],
   "source": []
  }
 ],
 "metadata": {
  "kernelspec": {
   "display_name": "Python 3",
   "language": "python",
   "name": "python3"
  },
  "language_info": {
   "codemirror_mode": {
    "name": "ipython",
    "version": 3
   },
   "file_extension": ".py",
   "mimetype": "text/x-python",
   "name": "python",
   "nbconvert_exporter": "python",
   "pygments_lexer": "ipython3",
   "version": "3.8.5"
  }
 },
 "nbformat": 4,
 "nbformat_minor": 4
}
