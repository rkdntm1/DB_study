{
 "cells": [
  {
   "cell_type": "markdown",
   "metadata": {},
   "source": [
    "SVM(Support Vector Machine) :  \n",
    "\n",
    "고차원 데이터에 \n",
    "이차 방정식 문제로  해결\n",
    "선형 SVM\n",
    "비선형 SVM\n"
   ]
  },
  {
   "cell_type": "markdown",
   "metadata": {},
   "source": [
    " training에 성능이 좋아야 하지만, testing data좋아야 함\n",
    "    => generalization ability\n",
    "    \n",
    "Support Vector Machine: 초평면(hyperplane) 또는 초평면   4차식 => hyper plane\n",
    "\n",
    "$ W^T X + b=0 $ \n",
    "(w: normal vector of the hyper plane, b : bias)"
   ]
  },
  {
   "cell_type": "markdown",
   "metadata": {},
   "source": [
    "<img src=\"./img/svm1.png\" width=\"450px\" height=\"450px\" align=\"left\">\n",
    "\n",
    "classification :두 클래스를 나누는 hyperplane은 무한히 많다. \n",
    "가장 좋은 hyper plane  \n",
    "=> Maximizing margin over the training set  \n",
    "=> minizing generalization error  \n"
   ]
  },
  {
   "cell_type": "markdown",
   "metadata": {},
   "source": [
    "<img src=\"img/svm2.png\" width=\"350px\" height=\"200px\" align=\"left\">\n",
    "<div style=\"clear:both;padding-top:10px\">\n",
    "\n",
    "margin : 각 클래스에서 가장 가까운 관측치 사이의 거리  \n",
    "    (minus plane과 plus plane사이의 거리)\n",
    "   : margin을 최대화하는 hyper plane을 찾는 것(w와 b를 찾는 것)   \n",
    "    \n",
    "plus plane :  $W^Tx^+ +b=1 $  \n",
    "minus-plane :  $W^Tx^-+b =-1 $   ($x^+$ =  $x^-$+$ \\lambda w$)"
   ]
  },
  {
   "cell_type": "markdown",
   "metadata": {},
   "source": [
    "#### y값이 +1인 데이터 중 판별 함수 값이 가장 작은 데이터 $x^+$\n",
    "####   y값이 -1인 데이터 중 가장 큰 데이터 $x^-$\n",
    "    각 데이터들은 각각 클래스에 속하는 데이터 중 가장 경계선에 \n",
    "    위치하는 데이터이다.  => 서포트 벡터\n",
    "\n",
    "<img src=\"img/svm3.png\" width=\"250px\" height=\"350px\" align=\"left\">\n",
    "\n",
    "        \n",
    "<img src=\"img/svm6.png\"  width=\"250px\" height=\"250px\" align=\"left\">        "
   ]
  },
  {
   "cell_type": "markdown",
   "metadata": {},
   "source": [
    "<img src=\"img/svm8.png\" width=\"300px\" height=\"300px\" align=\"left\">\n",
    "<div style=\"clear:both\">\n",
    "y=1, $w^T x+b$가 1보다 크다.  \n",
    "y=-1 , $w^Tx$ =b가 -1보다 작다.  "
   ]
  },
  {
   "cell_type": "markdown",
   "metadata": {},
   "source": [
    "<img src=\"img/svm9.png\" width=\"150px\" height=\"150px\" align=\"left\">\n",
    "<div style=\"clear:both\">\n",
    "라그랑지 승수\n",
    "<img src=\"img/svm10.png\" width=\"400px\" height=\"400px\" align=\"left\">\n"
   ]
  },
  {
   "cell_type": "markdown",
   "metadata": {},
   "source": [
    "<img src=\"img/svm11.png\" width=\"350px\" height=\"350px\" align=\"left\">\n",
    "`<img src=\"img/svm11.png\" width=\"300px\" height=\"300px\" align=\"left\">\n",
    "<img src=\"img/svm12.png\" width=\"300px\" height=\"300px\" align=\"left\">\n",
    "<img src=\"img/svm13.png\" width=\"400px\" height=\"400px\" align=\"left\">"
   ]
  },
  {
   "cell_type": "markdown",
   "metadata": {},
   "source": [
    "<img src=\"img/svm14.png\" width=\"300px\" height=\"300px\" align=\"left\">\n",
    "<img src=\"img/svm15.png\" width=\"300px\" height=\"300px\" align=\"left\">"
   ]
  },
  {
   "cell_type": "markdown",
   "metadata": {},
   "source": [
    "<img src=\"img/svm18.png\" width=\"200px\" height=\"00px\" align=\"left\">"
   ]
  },
  {
   "cell_type": "markdown",
   "metadata": {},
   "source": [
    "#### $\\alpha_i$ 가 아니면 $y_i(w^Tx_i+b)-1)$이 0\n",
    "=> plus plane또는 minus plan 에 있는 벡터가 됨   \n",
    "=> 서포트 벡터 "
   ]
  },
  {
   "cell_type": "markdown",
   "metadata": {},
   "source": [
    "<img src=\"img/svm19.png\" width=\"500px\" height=\"500px\" align=\"left\">"
   ]
  },
  {
   "cell_type": "code",
   "execution_count": 1,
   "metadata": {},
   "outputs": [],
   "source": [
    "from sklearn import datasets\n",
    "\n",
    "cancer = datasets.load_breast_cancer()"
   ]
  },
  {
   "cell_type": "code",
   "execution_count": 2,
   "metadata": {
    "scrolled": true
   },
   "outputs": [
    {
     "name": "stdout",
     "output_type": "stream",
     "text": [
      "Features:  ['mean radius' 'mean texture' 'mean perimeter' 'mean area'\n",
      " 'mean smoothness' 'mean compactness' 'mean concavity'\n",
      " 'mean concave points' 'mean symmetry' 'mean fractal dimension'\n",
      " 'radius error' 'texture error' 'perimeter error' 'area error'\n",
      " 'smoothness error' 'compactness error' 'concavity error'\n",
      " 'concave points error' 'symmetry error' 'fractal dimension error'\n",
      " 'worst radius' 'worst texture' 'worst perimeter' 'worst area'\n",
      " 'worst smoothness' 'worst compactness' 'worst concavity'\n",
      " 'worst concave points' 'worst symmetry' 'worst fractal dimension']\n",
      "Labels:  ['malignant' 'benign']\n"
     ]
    }
   ],
   "source": [
    "print(\"Features: \", cancer.feature_names)\n",
    "print(\"Labels: \", cancer.target_names)"
   ]
  },
  {
   "cell_type": "code",
   "execution_count": 3,
   "metadata": {},
   "outputs": [],
   "source": [
    "from sklearn.model_selection import train_test_split\n",
    "\n",
    "# Split dataset into training set and test set\n",
    "X_train, X_test, y_train, y_test = train_test_split(cancer.data, cancer.target, test_size=0.2,random_state=1000) "
   ]
  },
  {
   "cell_type": "code",
   "execution_count": 4,
   "metadata": {},
   "outputs": [],
   "source": [
    "from sklearn import svm\n",
    "\n",
    "clf = svm.SVC(kernel='linear') # Linear Kernel\n",
    "\n",
    "clf.fit(X_train, y_train)\n",
    "\n",
    "y_pred = clf.predict(X_test)"
   ]
  },
  {
   "cell_type": "code",
   "execution_count": 5,
   "metadata": {},
   "outputs": [
    {
     "name": "stdout",
     "output_type": "stream",
     "text": [
      "Accuracy: 0.9473684210526315\n"
     ]
    }
   ],
   "source": [
    "from sklearn import metrics\n",
    "\n",
    "# Model Accuracy: how often is the classifier correct?\n",
    "print(\"Accuracy:\",metrics.accuracy_score(y_test, y_pred))"
   ]
  },
  {
   "cell_type": "code",
   "execution_count": 6,
   "metadata": {
    "scrolled": true
   },
   "outputs": [
    {
     "name": "stdout",
     "output_type": "stream",
     "text": [
      "Precision: 0.9705882352941176\n",
      "Recall: 0.9428571428571428\n"
     ]
    }
   ],
   "source": [
    "print(\"Precision:\",metrics.precision_score(y_test, y_pred))\n",
    "print(\"Recall:\",metrics.recall_score(y_test, y_pred))"
   ]
  },
  {
   "cell_type": "markdown",
   "metadata": {},
   "source": [
    "support vector classifier"
   ]
  },
  {
   "cell_type": "code",
   "execution_count": 7,
   "metadata": {
    "scrolled": false
   },
   "outputs": [
    {
     "ename": "ModuleNotFoundError",
     "evalue": "No module named 'mglearn'",
     "output_type": "error",
     "traceback": [
      "\u001b[1;31m----------------------------------------------------\u001b[0m",
      "\u001b[1;31mModuleNotFoundError\u001b[0mTraceback (most recent call last)",
      "\u001b[1;32m<ipython-input-7-1038c70bd781>\u001b[0m in \u001b[0;36m<module>\u001b[1;34m\u001b[0m\n\u001b[0;32m      3\u001b[0m \u001b[1;32mfrom\u001b[0m \u001b[0msklearn\u001b[0m\u001b[1;33m.\u001b[0m\u001b[0mmodel_selection\u001b[0m \u001b[1;32mimport\u001b[0m \u001b[0mtrain_test_split\u001b[0m\u001b[1;33m\u001b[0m\u001b[1;33m\u001b[0m\u001b[0m\n\u001b[0;32m      4\u001b[0m \u001b[1;32mfrom\u001b[0m \u001b[0msklearn\u001b[0m\u001b[1;33m.\u001b[0m\u001b[0msvm\u001b[0m \u001b[1;32mimport\u001b[0m \u001b[0mSVC\u001b[0m\u001b[1;33m\u001b[0m\u001b[1;33m\u001b[0m\u001b[0m\n\u001b[1;32m----> 5\u001b[1;33m \u001b[1;32mimport\u001b[0m \u001b[0mmglearn\u001b[0m\u001b[1;33m\u001b[0m\u001b[1;33m\u001b[0m\u001b[0m\n\u001b[0m\u001b[0;32m      6\u001b[0m \u001b[0mget_ipython\u001b[0m\u001b[1;33m(\u001b[0m\u001b[1;33m)\u001b[0m\u001b[1;33m.\u001b[0m\u001b[0mrun_line_magic\u001b[0m\u001b[1;33m(\u001b[0m\u001b[1;34m'matplotlib'\u001b[0m\u001b[1;33m,\u001b[0m \u001b[1;34m'inline'\u001b[0m\u001b[1;33m)\u001b[0m\u001b[1;33m\u001b[0m\u001b[1;33m\u001b[0m\u001b[0m\n\u001b[0;32m      7\u001b[0m \u001b[1;33m\u001b[0m\u001b[0m\n",
      "\u001b[1;31mModuleNotFoundError\u001b[0m: No module named 'mglearn'"
     ]
    }
   ],
   "source": [
    "import matplotlib.pyplot as plt\n",
    "from sklearn.datasets import load_iris\n",
    "from sklearn.model_selection import train_test_split\n",
    "from sklearn.svm import SVC\n",
    "import mglearn\n",
    "%matplotlib inline\n",
    "\n",
    "iris = load_iris()\n",
    "\n",
    "x = iris['data'][:, [0,1]]\n",
    "y = iris['target']\n",
    "\n",
    "x_train, x_test, y_train, y_test = train_test_split(x, y, test_size=0.2)\n",
    "\n",
    "svc = SVC(kernel='linear',probability=True,decision_function_shape='ovr')\n",
    "svc.fit(x_train, y_train)\n",
    "\n",
    "\n",
    "print('train accuracy = :',svc.score(x_train, y_train))\n",
    "print('test accuracy = ', svc.score(x_test, y_test))\n",
    "\n",
    "\n",
    "plt.figure(figsize=(8, 5))\n",
    "mglearn.plots.plot_2d_classification(svc, x_train, alpha=0.1)\n",
    "mglearn.discrete_scatter(x_train[:,0], x_train[:,1], y_train)\n",
    "plt.legend()\n",
    "plt.xlabel('sepal length')\n",
    "plt.ylabel('sepal width')\n",
    "plt.show()"
   ]
  },
  {
   "cell_type": "code",
   "execution_count": null,
   "metadata": {
    "scrolled": true
   },
   "outputs": [],
   "source": [
    "print(\"Indices of support vectors:\" , svc.support_ )\n",
    "print()\n",
    "print(\"Support Vectors:\")\n",
    "print(svc.support_vectors_)"
   ]
  },
  {
   "cell_type": "code",
   "execution_count": null,
   "metadata": {
    "scrolled": true
   },
   "outputs": [],
   "source": [
    "from sklearn.metrics import confusion_matrix,accuracy_score,recall_score,\\\n",
    "roc_auc_score,precision_score\n",
    "from sklearn.svm.libsvm import predict_proba\n",
    "\n",
    "predict_proba\n",
    "conf_mat = confusion_matrix(y, svc.predict(x))     \n",
    "\n",
    "\n",
    "print(conf_mat)\n",
    "\n",
    "print(\"Accuracy: \", accuracy_score(y, svc.predict(x)) )\n",
    "print(\"Sensitivity: \",  recall_score(y, svc.predict(x),average='weighted') )\n",
    "print(\"Precision: \",  precision_score(y, svc.predict(x) , average='weighted'))\n"
   ]
  },
  {
   "cell_type": "code",
   "execution_count": null,
   "metadata": {
    "scrolled": true
   },
   "outputs": [],
   "source": [
    "\n",
    "from sklearn.model_selection import GridSearchCV\n",
    "\n",
    "parameters = [{'C': [0.01, 0.1, 0.5, 1, 5, 10, 100, 1000]}]\n",
    "svm_multi_clf_grid = GridSearchCV(SVC(kernel='linear'), parameters, cv=8, scoring='accuracy')\n",
    "svm_multi_clf_grid.fit(x_train, y_train)\n",
    "\n",
    "# 최적 모델 보기 (accuracy 기준)\n",
    "print(svm_multi_clf_grid.best_score_)\n",
    "print(svm_multi_clf_grid.best_params_)"
   ]
  },
  {
   "cell_type": "code",
   "execution_count": null,
   "metadata": {},
   "outputs": [],
   "source": [
    "import matplotlib.pyplot as plt\n",
    "from sklearn.datasets import load_iris\n",
    "from sklearn.model_selection import train_test_split\n",
    "from sklearn.svm import SVC\n",
    "import mglearn\n",
    "import numpy as np  \n",
    "from tqdm.notebook import tqdm\n",
    "\n",
    "iris = load_iris()\n",
    "\n",
    "x = iris.data[:, [0,1]]\n",
    "y = iris.target\n",
    "\n",
    "\n",
    "x_train, x_test, y_train, y_test = train_test_split(x, y, test_size=0.2)\n",
    "\n",
    "optAcc = -999\n",
    "optG = 0\n",
    "optX =0\n",
    "for gamma in tqdm(np.arange(0.1, 10.0, 0.1)):\n",
    "    for c in np.arange(0.1, 5.0, 0.1):\n",
    "        model = SVC(kernel='rbf', gamma=gamma, C=c)\n",
    "        model.fit(x_train, y_train)\n",
    "        acc = model.score(x_test, y_test)\n",
    "        \n",
    "        if acc > optAcc:\n",
    "            optG = gamma\n",
    "            optC = c\n",
    "            optAcc = acc\n",
    "            \n",
    "print('optG :', optG)\n",
    "print('optC :', optC)\n",
    "print('optAcc :',  optAcc)\n",
    "\n",
    "svc_model = SVC(kernel='rbf', gamma=optG, C=optC)\n",
    "svc_model.fit(x_train, y_train)\n",
    "\n",
    "print()\n",
    "print('test accruacy',  svc_model.score(x_train, y_train))\n",
    "print('test accuracy' , svc_model.score(x_test, y_test))"
   ]
  },
  {
   "cell_type": "code",
   "execution_count": null,
   "metadata": {},
   "outputs": [],
   "source": []
  }
 ],
 "metadata": {
  "kernelspec": {
   "display_name": "Python 3",
   "language": "python",
   "name": "python3"
  },
  "language_info": {
   "codemirror_mode": {
    "name": "ipython",
    "version": 3
   },
   "file_extension": ".py",
   "mimetype": "text/x-python",
   "name": "python",
   "nbconvert_exporter": "python",
   "pygments_lexer": "ipython3",
   "version": "3.8.5"
  }
 },
 "nbformat": 4,
 "nbformat_minor": 4
}
